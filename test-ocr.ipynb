{
 "cells": [
  {
   "cell_type": "code",
   "execution_count": 1,
   "id": "adbd2e3a",
   "metadata": {
    "_cell_guid": "b1076dfc-b9ad-4769-8c92-a6c4dae69d19",
    "_uuid": "8f2839f25d086af736a60e9eeb907d3b93b6e0e5",
    "execution": {
     "iopub.execute_input": "2022-12-16T15:54:32.125939Z",
     "iopub.status.busy": "2022-12-16T15:54:32.125281Z",
     "iopub.status.idle": "2022-12-16T15:54:32.149661Z",
     "shell.execute_reply": "2022-12-16T15:54:32.148422Z"
    },
    "papermill": {
     "duration": 0.033672,
     "end_time": "2022-12-16T15:54:32.152349",
     "exception": false,
     "start_time": "2022-12-16T15:54:32.118677",
     "status": "completed"
    },
    "tags": []
   },
   "outputs": [
    {
     "name": "stdout",
     "output_type": "stream",
     "text": [
      "/kaggle/input/ocrocr/ DataForOCR/0.jpeg\n",
      "/kaggle/input/ocrocr/ DataForOCR/1.jpeg\n",
      "/kaggle/input/ocrocr/ DataForOCR/2.jpeg\n",
      "/kaggle/input/ocrocr/ DataForOCR/3.jpeg\n",
      "/kaggle/input/ocrocr/ DataForOCR/4.png\n",
      "/kaggle/input/ocrocr/ DataForOCR/5.jpeg\n",
      "/kaggle/input/ocrocr/ DataForOCR/6.jpeg\n",
      "/kaggle/input/ocrocr/ DataForOCR/7.jpeg\n",
      "/kaggle/input/ocrocr/ DataForOCR/8.jpeg\n",
      "/kaggle/input/ocrocr/ DataForOCR/9.jpeg\n"
     ]
    }
   ],
   "source": [
    "# This Python 3 environment comes with many helpful analytics libraries installed\n",
    "# It is defined by the kaggle/python Docker image: https://github.com/kaggle/docker-python\n",
    "# For example, here's several helpful packages to load\n",
    "\n",
    "import numpy as np # linear algebra\n",
    "import pandas as pd # data processing, CSV file I/O (e.g. pd.read_csv)\n",
    "import warnings \n",
    "warnings.filterwarnings('ignore')\n",
    "\n",
    "# Input data files are available in the read-only \"../input/\" directory\n",
    "# For example, running this (by clicking run or pressing Shift+Enter) will list all files under the input directory\n",
    "\n",
    "ImagesTestDIR = '/kaggle/input/ocrocr/ DataForOCR'\n",
    "\n",
    "import os\n",
    "for dirname, _, filenames in os.walk(ImagesTestDIR):\n",
    "    for filename in sorted(filenames):\n",
    "        print(os.path.join(dirname, filename))\n",
    "\n",
    "# You can write up to 20GB to the current directory (/kaggle/working/) that gets preserved as output when you create a version using \"Save & Run All\" \n",
    "# You can also write temporary files to /kaggle/temp/, but they won't be saved outside of the current session"
   ]
  },
  {
   "cell_type": "code",
   "execution_count": 2,
   "id": "40b7646a",
   "metadata": {
    "execution": {
     "iopub.execute_input": "2022-12-16T15:54:32.160527Z",
     "iopub.status.busy": "2022-12-16T15:54:32.159766Z",
     "iopub.status.idle": "2022-12-16T15:57:14.253154Z",
     "shell.execute_reply": "2022-12-16T15:57:14.252033Z"
    },
    "papermill": {
     "duration": 162.100407,
     "end_time": "2022-12-16T15:57:14.255990",
     "exception": false,
     "start_time": "2022-12-16T15:54:32.155583",
     "status": "completed"
    },
    "tags": []
   },
   "outputs": [
    {
     "name": "stdout",
     "output_type": "stream",
     "text": [
      "Looking in indexes: https://mirror.baidu.com/pypi/simple\r\n",
      "Collecting paddlepaddle==2.4.1\r\n",
      "  Downloading https://mirror.baidu.com/pypi/packages/94/d2/ba37b7287a0c93fbbbf43e6f6d92c0d8f2848ffa262531633b18ecd7d145/paddlepaddle-2.4.1-cp37-cp37m-manylinux1_x86_64.whl (121.6 MB)\r\n",
      "\u001b[2K     \u001b[90m━━━━━━━━━━━━━━━━━━━━━━━━━━━━━━━━━━━━━━━\u001b[0m \u001b[32m121.6/121.6 MB\u001b[0m \u001b[31m5.1 MB/s\u001b[0m eta \u001b[36m0:00:00\u001b[0m\r\n",
      "\u001b[?25hRequirement already satisfied: decorator in /opt/conda/lib/python3.7/site-packages (from paddlepaddle==2.4.1) (5.1.1)\r\n",
      "Requirement already satisfied: protobuf<=3.20.0,>=3.1.0 in /opt/conda/lib/python3.7/site-packages (from paddlepaddle==2.4.1) (3.19.4)\r\n",
      "Requirement already satisfied: opt-einsum==3.3.0 in /opt/conda/lib/python3.7/site-packages (from paddlepaddle==2.4.1) (3.3.0)\r\n",
      "Requirement already satisfied: Pillow in /opt/conda/lib/python3.7/site-packages (from paddlepaddle==2.4.1) (9.1.1)\r\n",
      "Requirement already satisfied: six in /opt/conda/lib/python3.7/site-packages (from paddlepaddle==2.4.1) (1.15.0)\r\n",
      "Collecting paddle-bfloat==0.1.7\r\n",
      "  Downloading https://mirror.baidu.com/pypi/packages/82/61/dc218060cf0b2c6e6206c0b3961dc1b045e1761ac2af62f86669e8e19eda/paddle_bfloat-0.1.7-cp37-cp37m-manylinux_2_17_x86_64.manylinux2014_x86_64.whl (394 kB)\r\n",
      "\u001b[2K     \u001b[90m━━━━━━━━━━━━━━━━━━━━━━━━━━━━━━━━━━━━━━━\u001b[0m \u001b[32m394.8/394.8 kB\u001b[0m \u001b[31m9.6 MB/s\u001b[0m eta \u001b[36m0:00:00\u001b[0m\r\n",
      "\u001b[?25hCollecting astor\r\n",
      "  Downloading https://mirror.baidu.com/pypi/packages/c3/88/97eef84f48fa04fbd6750e62dcceafba6c63c81b7ac1420856c8dcc0a3f9/astor-0.8.1-py2.py3-none-any.whl (27 kB)\r\n",
      "Requirement already satisfied: requests>=2.20.0 in /opt/conda/lib/python3.7/site-packages (from paddlepaddle==2.4.1) (2.28.1)\r\n",
      "Requirement already satisfied: numpy>=1.13 in /opt/conda/lib/python3.7/site-packages (from paddlepaddle==2.4.1) (1.21.6)\r\n",
      "Requirement already satisfied: idna<4,>=2.5 in /opt/conda/lib/python3.7/site-packages (from requests>=2.20.0->paddlepaddle==2.4.1) (3.3)\r\n",
      "Requirement already satisfied: charset-normalizer<3,>=2 in /opt/conda/lib/python3.7/site-packages (from requests>=2.20.0->paddlepaddle==2.4.1) (2.1.0)\r\n",
      "Requirement already satisfied: urllib3<1.27,>=1.21.1 in /opt/conda/lib/python3.7/site-packages (from requests>=2.20.0->paddlepaddle==2.4.1) (1.26.12)\r\n",
      "Requirement already satisfied: certifi>=2017.4.17 in /opt/conda/lib/python3.7/site-packages (from requests>=2.20.0->paddlepaddle==2.4.1) (2022.9.24)\r\n",
      "Installing collected packages: paddle-bfloat, astor, paddlepaddle\r\n",
      "Successfully installed astor-0.8.1 paddle-bfloat-0.1.7 paddlepaddle-2.4.1\r\n",
      "\u001b[33mWARNING: Running pip as the 'root' user can result in broken permissions and conflicting behaviour with the system package manager. It is recommended to use a virtual environment instead: https://pip.pypa.io/warnings/venv\u001b[0m\u001b[33m\r\n",
      "\u001b[0mCollecting git+https://github.com/JaidedAI/EasyOCR.git\r\n",
      "  Cloning https://github.com/JaidedAI/EasyOCR.git to /tmp/pip-req-build-vkvc0xc7\r\n",
      "  Running command git clone --filter=blob:none --quiet https://github.com/JaidedAI/EasyOCR.git /tmp/pip-req-build-vkvc0xc7\r\n",
      "  Resolved https://github.com/JaidedAI/EasyOCR.git to commit 054ec4f90127ab9e45f101baf8caa519d5a6e035\r\n",
      "  Preparing metadata (setup.py) ... \u001b[?25l-\b \bdone\r\n",
      "\u001b[?25hRequirement already satisfied: torch in /opt/conda/lib/python3.7/site-packages (from easyocr==1.6.2) (1.11.0+cpu)\r\n",
      "Requirement already satisfied: torchvision>=0.5 in /opt/conda/lib/python3.7/site-packages (from easyocr==1.6.2) (0.12.0+cpu)\r\n",
      "Requirement already satisfied: opencv-python-headless<=4.5.4.60 in /opt/conda/lib/python3.7/site-packages (from easyocr==1.6.2) (4.5.4.60)\r\n",
      "Requirement already satisfied: scipy in /opt/conda/lib/python3.7/site-packages (from easyocr==1.6.2) (1.7.3)\r\n",
      "Requirement already satisfied: numpy in /opt/conda/lib/python3.7/site-packages (from easyocr==1.6.2) (1.21.6)\r\n",
      "Requirement already satisfied: Pillow in /opt/conda/lib/python3.7/site-packages (from easyocr==1.6.2) (9.1.1)\r\n",
      "Requirement already satisfied: scikit-image in /opt/conda/lib/python3.7/site-packages (from easyocr==1.6.2) (0.19.3)\r\n",
      "Requirement already satisfied: python-bidi in /opt/conda/lib/python3.7/site-packages (from easyocr==1.6.2) (0.4.2)\r\n",
      "Requirement already satisfied: PyYAML in /opt/conda/lib/python3.7/site-packages (from easyocr==1.6.2) (6.0)\r\n",
      "Requirement already satisfied: Shapely in /opt/conda/lib/python3.7/site-packages (from easyocr==1.6.2) (1.8.0)\r\n",
      "Requirement already satisfied: pyclipper in /opt/conda/lib/python3.7/site-packages (from easyocr==1.6.2) (1.3.0.post3)\r\n",
      "Requirement already satisfied: ninja in /opt/conda/lib/python3.7/site-packages (from easyocr==1.6.2) (1.10.2.4)\r\n",
      "Requirement already satisfied: requests in /opt/conda/lib/python3.7/site-packages (from torchvision>=0.5->easyocr==1.6.2) (2.28.1)\r\n",
      "Requirement already satisfied: typing-extensions in /opt/conda/lib/python3.7/site-packages (from torchvision>=0.5->easyocr==1.6.2) (4.4.0)\r\n",
      "Requirement already satisfied: six in /opt/conda/lib/python3.7/site-packages (from python-bidi->easyocr==1.6.2) (1.15.0)\r\n",
      "Requirement already satisfied: networkx>=2.2 in /opt/conda/lib/python3.7/site-packages (from scikit-image->easyocr==1.6.2) (2.5)\r\n",
      "Requirement already satisfied: imageio>=2.4.1 in /opt/conda/lib/python3.7/site-packages (from scikit-image->easyocr==1.6.2) (2.19.3)\r\n",
      "Requirement already satisfied: packaging>=20.0 in /opt/conda/lib/python3.7/site-packages (from scikit-image->easyocr==1.6.2) (21.3)\r\n",
      "Requirement already satisfied: PyWavelets>=1.1.1 in /opt/conda/lib/python3.7/site-packages (from scikit-image->easyocr==1.6.2) (1.3.0)\r\n",
      "Requirement already satisfied: tifffile>=2019.7.26 in /opt/conda/lib/python3.7/site-packages (from scikit-image->easyocr==1.6.2) (2021.11.2)\r\n",
      "Requirement already satisfied: decorator>=4.3.0 in /opt/conda/lib/python3.7/site-packages (from networkx>=2.2->scikit-image->easyocr==1.6.2) (5.1.1)\r\n",
      "Requirement already satisfied: pyparsing!=3.0.5,>=2.0.2 in /opt/conda/lib/python3.7/site-packages (from packaging>=20.0->scikit-image->easyocr==1.6.2) (3.0.9)\r\n",
      "Requirement already satisfied: urllib3<1.27,>=1.21.1 in /opt/conda/lib/python3.7/site-packages (from requests->torchvision>=0.5->easyocr==1.6.2) (1.26.12)\r\n",
      "Requirement already satisfied: idna<4,>=2.5 in /opt/conda/lib/python3.7/site-packages (from requests->torchvision>=0.5->easyocr==1.6.2) (3.3)\r\n",
      "Requirement already satisfied: certifi>=2017.4.17 in /opt/conda/lib/python3.7/site-packages (from requests->torchvision>=0.5->easyocr==1.6.2) (2022.9.24)\r\n",
      "Requirement already satisfied: charset-normalizer<3,>=2 in /opt/conda/lib/python3.7/site-packages (from requests->torchvision>=0.5->easyocr==1.6.2) (2.1.0)\r\n",
      "\u001b[33mWARNING: Running pip as the 'root' user can result in broken permissions and conflicting behaviour with the system package manager. It is recommended to use a virtual environment instead: https://pip.pypa.io/warnings/venv\u001b[0m\u001b[33m\r\n",
      "\u001b[0mCollecting paddleocr>=2.0.1\r\n",
      "  Downloading paddleocr-2.6.1.2-py3-none-any.whl (440 kB)\r\n",
      "\u001b[2K     \u001b[90m━━━━━━━━━━━━━━━━━━━━━━━━━━━━━━━━━━━━━\u001b[0m \u001b[32m440.6/440.6 kB\u001b[0m \u001b[31m709.1 kB/s\u001b[0m eta \u001b[36m0:00:00\u001b[0m\r\n",
      "\u001b[?25hCollecting PyMuPDF<1.21.0\r\n",
      "  Downloading PyMuPDF-1.20.2-cp37-cp37m-manylinux_2_17_x86_64.manylinux2014_x86_64.whl (8.8 MB)\r\n",
      "\u001b[2K     \u001b[90m━━━━━━━━━━━━━━━━━━━━━━━━━━━━━━━━━━━━━━━━\u001b[0m \u001b[32m8.8/8.8 MB\u001b[0m \u001b[31m10.4 MB/s\u001b[0m eta \u001b[36m0:00:00\u001b[0m\r\n",
      "\u001b[?25hCollecting visualdl\r\n",
      "  Downloading visualdl-2.4.1-py3-none-any.whl (4.9 MB)\r\n",
      "\u001b[2K     \u001b[90m━━━━━━━━━━━━━━━━━━━━━━━━━━━━━━━━━━━━━━━━\u001b[0m \u001b[32m4.9/4.9 MB\u001b[0m \u001b[31m21.1 MB/s\u001b[0m eta \u001b[36m0:00:00\u001b[0m\r\n",
      "\u001b[?25hRequirement already satisfied: opencv-python in /opt/conda/lib/python3.7/site-packages (from paddleocr>=2.0.1) (4.5.4.60)\r\n",
      "Requirement already satisfied: tqdm in /opt/conda/lib/python3.7/site-packages (from paddleocr>=2.0.1) (4.64.0)\r\n",
      "Requirement already satisfied: scikit-image in /opt/conda/lib/python3.7/site-packages (from paddleocr>=2.0.1) (0.19.3)\r\n",
      "Collecting attrdict\r\n",
      "  Downloading attrdict-2.0.1-py2.py3-none-any.whl (9.9 kB)\r\n",
      "Requirement already satisfied: imgaug in /opt/conda/lib/python3.7/site-packages (from paddleocr>=2.0.1) (0.4.0)\r\n",
      "Requirement already satisfied: numpy in /opt/conda/lib/python3.7/site-packages (from paddleocr>=2.0.1) (1.21.6)\r\n",
      "Collecting pdf2docx\r\n",
      "  Downloading pdf2docx-0.5.6-py3-none-any.whl (148 kB)\r\n",
      "\u001b[2K     \u001b[90m━━━━━━━━━━━━━━━━━━━━━━━━━━━━━━━━━━━━━━\u001b[0m \u001b[32m148.4/148.4 kB\u001b[0m \u001b[31m10.4 MB/s\u001b[0m eta \u001b[36m0:00:00\u001b[0m\r\n",
      "\u001b[?25hRequirement already satisfied: lxml in /opt/conda/lib/python3.7/site-packages (from paddleocr>=2.0.1) (4.9.1)\r\n",
      "Requirement already satisfied: pyclipper in /opt/conda/lib/python3.7/site-packages (from paddleocr>=2.0.1) (1.3.0.post3)\r\n",
      "Collecting fire>=0.3.0\r\n",
      "  Downloading fire-0.5.0.tar.gz (88 kB)\r\n",
      "\u001b[2K     \u001b[90m━━━━━━━━━━━━━━━━━━━━━━━━━━━━━━━━━━━━━━━━\u001b[0m \u001b[32m88.3/88.3 kB\u001b[0m \u001b[31m7.8 MB/s\u001b[0m eta \u001b[36m0:00:00\u001b[0m\r\n",
      "\u001b[?25h  Preparing metadata (setup.py) ... \u001b[?25l-\b \bdone\r\n",
      "\u001b[?25hRequirement already satisfied: shapely in /opt/conda/lib/python3.7/site-packages (from paddleocr>=2.0.1) (1.8.0)\r\n",
      "Requirement already satisfied: beautifulsoup4 in /opt/conda/lib/python3.7/site-packages (from paddleocr>=2.0.1) (4.11.1)\r\n",
      "Requirement already satisfied: fonttools>=4.24.0 in /opt/conda/lib/python3.7/site-packages (from paddleocr>=2.0.1) (4.33.3)\r\n",
      "Requirement already satisfied: openpyxl in /opt/conda/lib/python3.7/site-packages (from paddleocr>=2.0.1) (3.0.10)\r\n",
      "Requirement already satisfied: lmdb in /opt/conda/lib/python3.7/site-packages (from paddleocr>=2.0.1) (1.3.0)\r\n",
      "Requirement already satisfied: rapidfuzz in /opt/conda/lib/python3.7/site-packages (from paddleocr>=2.0.1) (2.11.1)\r\n",
      "Collecting python-docx\r\n",
      "  Downloading python-docx-0.8.11.tar.gz (5.6 MB)\r\n",
      "\u001b[2K     \u001b[90m━━━━━━━━━━━━━━━━━━━━━━━━━━━━━━━━━━━━━━━━\u001b[0m \u001b[32m5.6/5.6 MB\u001b[0m \u001b[31m22.9 MB/s\u001b[0m eta \u001b[36m0:00:00\u001b[0m\r\n",
      "\u001b[?25h  Preparing metadata (setup.py) ... \u001b[?25l-\b \bdone\r\n",
      "\u001b[?25hRequirement already satisfied: opencv-contrib-python in /opt/conda/lib/python3.7/site-packages (from paddleocr>=2.0.1) (4.5.4.60)\r\n",
      "Collecting premailer\r\n",
      "  Downloading premailer-3.10.0-py2.py3-none-any.whl (19 kB)\r\n",
      "Requirement already satisfied: cython in /opt/conda/lib/python3.7/site-packages (from paddleocr>=2.0.1) (0.29.32)\r\n",
      "Requirement already satisfied: six in /opt/conda/lib/python3.7/site-packages (from fire>=0.3.0->paddleocr>=2.0.1) (1.15.0)\r\n",
      "Requirement already satisfied: termcolor in /opt/conda/lib/python3.7/site-packages (from fire>=0.3.0->paddleocr>=2.0.1) (1.1.0)\r\n",
      "Requirement already satisfied: soupsieve>1.2 in /opt/conda/lib/python3.7/site-packages (from beautifulsoup4->paddleocr>=2.0.1) (2.3.1)\r\n",
      "Requirement already satisfied: imageio in /opt/conda/lib/python3.7/site-packages (from imgaug->paddleocr>=2.0.1) (2.19.3)\r\n",
      "Requirement already satisfied: Pillow in /opt/conda/lib/python3.7/site-packages (from imgaug->paddleocr>=2.0.1) (9.1.1)\r\n",
      "Requirement already satisfied: matplotlib in /opt/conda/lib/python3.7/site-packages (from imgaug->paddleocr>=2.0.1) (3.5.3)\r\n",
      "Requirement already satisfied: scipy in /opt/conda/lib/python3.7/site-packages (from imgaug->paddleocr>=2.0.1) (1.7.3)\r\n",
      "Requirement already satisfied: networkx>=2.2 in /opt/conda/lib/python3.7/site-packages (from scikit-image->paddleocr>=2.0.1) (2.5)\r\n",
      "Requirement already satisfied: PyWavelets>=1.1.1 in /opt/conda/lib/python3.7/site-packages (from scikit-image->paddleocr>=2.0.1) (1.3.0)\r\n",
      "Requirement already satisfied: tifffile>=2019.7.26 in /opt/conda/lib/python3.7/site-packages (from scikit-image->paddleocr>=2.0.1) (2021.11.2)\r\n",
      "Requirement already satisfied: packaging>=20.0 in /opt/conda/lib/python3.7/site-packages (from scikit-image->paddleocr>=2.0.1) (21.3)\r\n",
      "Requirement already satisfied: et-xmlfile in /opt/conda/lib/python3.7/site-packages (from openpyxl->paddleocr>=2.0.1) (1.1.0)\r\n",
      "Collecting cssutils\r\n",
      "  Downloading cssutils-2.6.0-py3-none-any.whl (399 kB)\r\n",
      "\u001b[2K     \u001b[90m━━━━━━━━━━━━━━━━━━━━━━━━━━━━━━━━━━━━━━\u001b[0m \u001b[32m399.7/399.7 kB\u001b[0m \u001b[31m30.7 MB/s\u001b[0m eta \u001b[36m0:00:00\u001b[0m\r\n",
      "\u001b[?25hRequirement already satisfied: requests in /opt/conda/lib/python3.7/site-packages (from premailer->paddleocr>=2.0.1) (2.28.1)\r\n",
      "Collecting cssselect\r\n",
      "  Downloading cssselect-1.2.0-py2.py3-none-any.whl (18 kB)\r\n",
      "Requirement already satisfied: cachetools in /opt/conda/lib/python3.7/site-packages (from premailer->paddleocr>=2.0.1) (4.2.4)\r\n",
      "Requirement already satisfied: flask>=1.1.1 in /opt/conda/lib/python3.7/site-packages (from visualdl->paddleocr>=2.0.1) (2.2.2)\r\n",
      "Requirement already satisfied: protobuf>=3.11.0 in /opt/conda/lib/python3.7/site-packages (from visualdl->paddleocr>=2.0.1) (3.19.4)\r\n",
      "Requirement already satisfied: pandas in /opt/conda/lib/python3.7/site-packages (from visualdl->paddleocr>=2.0.1) (1.3.5)\r\n",
      "Collecting bce-python-sdk\r\n",
      "  Downloading bce_python_sdk-0.8.74-py3-none-any.whl (204 kB)\r\n",
      "\u001b[2K     \u001b[90m━━━━━━━━━━━━━━━━━━━━━━━━━━━━━━━━━━━━━━\u001b[0m \u001b[32m204.6/204.6 kB\u001b[0m \u001b[31m15.5 MB/s\u001b[0m eta \u001b[36m0:00:00\u001b[0m\r\n",
      "\u001b[?25hRequirement already satisfied: multiprocess in /opt/conda/lib/python3.7/site-packages (from visualdl->paddleocr>=2.0.1) (0.70.13)\r\n",
      "Collecting Flask-Babel>=1.0.0\r\n",
      "  Downloading Flask_Babel-2.0.0-py3-none-any.whl (9.3 kB)\r\n",
      "Requirement already satisfied: click>=8.0 in /opt/conda/lib/python3.7/site-packages (from flask>=1.1.1->visualdl->paddleocr>=2.0.1) (8.0.4)\r\n",
      "Requirement already satisfied: importlib-metadata>=3.6.0 in /opt/conda/lib/python3.7/site-packages (from flask>=1.1.1->visualdl->paddleocr>=2.0.1) (4.13.0)\r\n",
      "Requirement already satisfied: Werkzeug>=2.2.2 in /opt/conda/lib/python3.7/site-packages (from flask>=1.1.1->visualdl->paddleocr>=2.0.1) (2.2.2)\r\n",
      "Requirement already satisfied: Jinja2>=3.0 in /opt/conda/lib/python3.7/site-packages (from flask>=1.1.1->visualdl->paddleocr>=2.0.1) (3.1.2)\r\n",
      "Requirement already satisfied: itsdangerous>=2.0 in /opt/conda/lib/python3.7/site-packages (from flask>=1.1.1->visualdl->paddleocr>=2.0.1) (2.1.2)\r\n",
      "Requirement already satisfied: pytz in /opt/conda/lib/python3.7/site-packages (from Flask-Babel>=1.0.0->visualdl->paddleocr>=2.0.1) (2022.1)\r\n",
      "Requirement already satisfied: Babel>=2.3 in /opt/conda/lib/python3.7/site-packages (from Flask-Babel>=1.0.0->visualdl->paddleocr>=2.0.1) (2.10.3)\r\n",
      "Requirement already satisfied: decorator>=4.3.0 in /opt/conda/lib/python3.7/site-packages (from networkx>=2.2->scikit-image->paddleocr>=2.0.1) (5.1.1)\r\n",
      "Requirement already satisfied: pyparsing!=3.0.5,>=2.0.2 in /opt/conda/lib/python3.7/site-packages (from packaging>=20.0->scikit-image->paddleocr>=2.0.1) (3.0.9)\r\n",
      "Requirement already satisfied: future>=0.6.0 in /opt/conda/lib/python3.7/site-packages (from bce-python-sdk->visualdl->paddleocr>=2.0.1) (0.18.2)\r\n",
      "Collecting pycryptodome>=3.8.0\r\n",
      "  Downloading pycryptodome-3.16.0-cp35-abi3-manylinux_2_5_x86_64.manylinux1_x86_64.manylinux_2_12_x86_64.manylinux2010_x86_64.whl (2.3 MB)\r\n",
      "\u001b[2K     \u001b[90m━━━━━━━━━━━━━━━━━━━━━━━━━━━━━━━━━━━━━━━━\u001b[0m \u001b[32m2.3/2.3 MB\u001b[0m \u001b[31m46.7 MB/s\u001b[0m eta \u001b[36m0:00:00\u001b[0m\r\n",
      "\u001b[?25hRequirement already satisfied: python-dateutil>=2.7 in /opt/conda/lib/python3.7/site-packages (from matplotlib->imgaug->paddleocr>=2.0.1) (2.8.2)\r\n",
      "Requirement already satisfied: kiwisolver>=1.0.1 in /opt/conda/lib/python3.7/site-packages (from matplotlib->imgaug->paddleocr>=2.0.1) (1.4.3)\r\n",
      "Requirement already satisfied: cycler>=0.10 in /opt/conda/lib/python3.7/site-packages (from matplotlib->imgaug->paddleocr>=2.0.1) (0.11.0)\r\n",
      "Requirement already satisfied: dill>=0.3.5.1 in /opt/conda/lib/python3.7/site-packages (from multiprocess->visualdl->paddleocr>=2.0.1) (0.3.5.1)\r\n",
      "Requirement already satisfied: urllib3<1.27,>=1.21.1 in /opt/conda/lib/python3.7/site-packages (from requests->premailer->paddleocr>=2.0.1) (1.26.12)\r\n",
      "Requirement already satisfied: charset-normalizer<3,>=2 in /opt/conda/lib/python3.7/site-packages (from requests->premailer->paddleocr>=2.0.1) (2.1.0)\r\n",
      "Requirement already satisfied: idna<4,>=2.5 in /opt/conda/lib/python3.7/site-packages (from requests->premailer->paddleocr>=2.0.1) (3.3)\r\n",
      "Requirement already satisfied: certifi>=2017.4.17 in /opt/conda/lib/python3.7/site-packages (from requests->premailer->paddleocr>=2.0.1) (2022.9.24)\r\n",
      "Requirement already satisfied: typing-extensions>=3.6.4 in /opt/conda/lib/python3.7/site-packages (from importlib-metadata>=3.6.0->flask>=1.1.1->visualdl->paddleocr>=2.0.1) (4.4.0)\r\n",
      "Requirement already satisfied: zipp>=0.5 in /opt/conda/lib/python3.7/site-packages (from importlib-metadata>=3.6.0->flask>=1.1.1->visualdl->paddleocr>=2.0.1) (3.8.0)\r\n",
      "Requirement already satisfied: MarkupSafe>=2.0 in /opt/conda/lib/python3.7/site-packages (from Jinja2>=3.0->flask>=1.1.1->visualdl->paddleocr>=2.0.1) (2.1.1)\r\n",
      "Building wheels for collected packages: fire, python-docx\r\n",
      "  Building wheel for fire (setup.py) ... \u001b[?25l-\b \b\\\b \b|\b \bdone\r\n",
      "\u001b[?25h  Created wheel for fire: filename=fire-0.5.0-py2.py3-none-any.whl size=116951 sha256=cc0f53a99622c724962b671d67faf3dab97e8159d98b361cb49b914e13f623a0\r\n",
      "  Stored in directory: /root/.cache/pip/wheels/20/97/e1/dd2c472bebcdcaa85fdc07d0f19020299f1c86773028860c53\r\n",
      "  Building wheel for python-docx (setup.py) ... \u001b[?25l-\b \b\\\b \b|\b \bdone\r\n",
      "\u001b[?25h  Created wheel for python-docx: filename=python_docx-0.8.11-py3-none-any.whl size=184507 sha256=43666a3bf8cc08cb1ca906925ae6be4817351715e52e8667893f0699e0d96f4e\r\n",
      "  Stored in directory: /root/.cache/pip/wheels/f6/6f/b9/d798122a8b55b74ad30b5f52b01482169b445fbb84a11797a6\r\n",
      "Successfully built fire python-docx\r\n",
      "Installing collected packages: python-docx, PyMuPDF, pycryptodome, fire, cssselect, attrdict, pdf2docx, cssutils, bce-python-sdk, premailer, Flask-Babel, visualdl, paddleocr\r\n",
      "Successfully installed Flask-Babel-2.0.0 PyMuPDF-1.20.2 attrdict-2.0.1 bce-python-sdk-0.8.74 cssselect-1.2.0 cssutils-2.6.0 fire-0.5.0 paddleocr-2.6.1.2 pdf2docx-0.5.6 premailer-3.10.0 pycryptodome-3.16.0 python-docx-0.8.11 visualdl-2.4.1\r\n",
      "\u001b[33mWARNING: Running pip as the 'root' user can result in broken permissions and conflicting behaviour with the system package manager. It is recommended to use a virtual environment instead: https://pip.pypa.io/warnings/venv\u001b[0m\u001b[33m\r\n",
      "\u001b[0mRequirement already satisfied: torch in /opt/conda/lib/python3.7/site-packages (1.11.0+cpu)\r\n",
      "Requirement already satisfied: torchvision in /opt/conda/lib/python3.7/site-packages (0.12.0+cpu)\r\n",
      "Requirement already satisfied: torchaudio in /opt/conda/lib/python3.7/site-packages (0.11.0+cpu)\r\n",
      "Requirement already satisfied: typing-extensions in /opt/conda/lib/python3.7/site-packages (from torch) (4.4.0)\r\n",
      "Requirement already satisfied: pillow!=8.3.*,>=5.3.0 in /opt/conda/lib/python3.7/site-packages (from torchvision) (9.1.1)\r\n",
      "Requirement already satisfied: numpy in /opt/conda/lib/python3.7/site-packages (from torchvision) (1.21.6)\r\n",
      "Requirement already satisfied: requests in /opt/conda/lib/python3.7/site-packages (from torchvision) (2.28.1)\r\n",
      "Requirement already satisfied: charset-normalizer<3,>=2 in /opt/conda/lib/python3.7/site-packages (from requests->torchvision) (2.1.0)\r\n",
      "Requirement already satisfied: urllib3<1.27,>=1.21.1 in /opt/conda/lib/python3.7/site-packages (from requests->torchvision) (1.26.12)\r\n",
      "Requirement already satisfied: certifi>=2017.4.17 in /opt/conda/lib/python3.7/site-packages (from requests->torchvision) (2022.9.24)\r\n",
      "Requirement already satisfied: idna<4,>=2.5 in /opt/conda/lib/python3.7/site-packages (from requests->torchvision) (3.3)\r\n",
      "\u001b[33mWARNING: Running pip as the 'root' user can result in broken permissions and conflicting behaviour with the system package manager. It is recommended to use a virtual environment instead: https://pip.pypa.io/warnings/venv\u001b[0m\u001b[33m\r\n",
      "\u001b[0mRequirement already satisfied: pip in /opt/conda/lib/python3.7/site-packages (22.1.2)\r\n",
      "Collecting pip\r\n",
      "  Downloading pip-22.3.1-py3-none-any.whl (2.1 MB)\r\n",
      "\u001b[2K     \u001b[90m━━━━━━━━━━━━━━━━━━━━━━━━━━━━━━━━━━━━━━━━\u001b[0m \u001b[32m2.1/2.1 MB\u001b[0m \u001b[31m2.1 MB/s\u001b[0m eta \u001b[36m0:00:00\u001b[0m\r\n",
      "\u001b[?25hInstalling collected packages: pip\r\n",
      "  Attempting uninstall: pip\r\n",
      "    Found existing installation: pip 22.1.2\r\n",
      "    Uninstalling pip-22.1.2:\r\n",
      "      Successfully uninstalled pip-22.1.2\r\n",
      "Successfully installed pip-22.3.1\r\n",
      "\u001b[33mWARNING: Running pip as the 'root' user can result in broken permissions and conflicting behaviour with the system package manager. It is recommended to use a virtual environment instead: https://pip.pypa.io/warnings/venv\u001b[0m\u001b[33m\r\n",
      "\u001b[0mRequirement already satisfied: tensorflow in /opt/conda/lib/python3.7/site-packages (2.6.4)\r\n",
      "Requirement already satisfied: keras-preprocessing~=1.1.2 in /opt/conda/lib/python3.7/site-packages (from tensorflow) (1.1.2)\r\n",
      "Collecting typing-extensions<3.11,>=3.7\r\n",
      "  Downloading typing_extensions-3.10.0.2-py3-none-any.whl (26 kB)\r\n",
      "Requirement already satisfied: wheel~=0.35 in /opt/conda/lib/python3.7/site-packages (from tensorflow) (0.37.1)\r\n",
      "Requirement already satisfied: absl-py~=0.10 in /opt/conda/lib/python3.7/site-packages (from tensorflow) (0.15.0)\r\n",
      "Requirement already satisfied: grpcio<2.0,>=1.37.0 in /opt/conda/lib/python3.7/site-packages (from tensorflow) (1.43.0)\r\n",
      "Requirement already satisfied: tensorflow-estimator<2.7,>=2.6.0 in /opt/conda/lib/python3.7/site-packages (from tensorflow) (2.6.0)\r\n",
      "Requirement already satisfied: astunparse~=1.6.3 in /opt/conda/lib/python3.7/site-packages (from tensorflow) (1.6.3)\r\n",
      "Requirement already satisfied: six~=1.15.0 in /opt/conda/lib/python3.7/site-packages (from tensorflow) (1.15.0)\r\n",
      "Requirement already satisfied: flatbuffers~=1.12.0 in /opt/conda/lib/python3.7/site-packages (from tensorflow) (1.12)\r\n",
      "Requirement already satisfied: gast==0.4.0 in /opt/conda/lib/python3.7/site-packages (from tensorflow) (0.4.0)\r\n",
      "Requirement already satisfied: google-pasta~=0.2 in /opt/conda/lib/python3.7/site-packages (from tensorflow) (0.2.0)\r\n",
      "Collecting numpy~=1.19.2\r\n",
      "  Downloading numpy-1.19.5-cp37-cp37m-manylinux2010_x86_64.whl (14.8 MB)\r\n",
      "\u001b[2K     \u001b[90m━━━━━━━━━━━━━━━━━━━━━━━━━━━━━━━━━━━━━━━━\u001b[0m \u001b[32m14.8/14.8 MB\u001b[0m \u001b[31m15.3 MB/s\u001b[0m eta \u001b[36m0:00:00\u001b[0m\r\n",
      "\u001b[?25hCollecting tensorboard<2.7,>=2.6.0\r\n",
      "  Downloading tensorboard-2.6.0-py3-none-any.whl (5.6 MB)\r\n",
      "\u001b[2K     \u001b[90m━━━━━━━━━━━━━━━━━━━━━━━━━━━━━━━━━━━━━━━━\u001b[0m \u001b[32m5.6/5.6 MB\u001b[0m \u001b[31m22.4 MB/s\u001b[0m eta \u001b[36m0:00:00\u001b[0m\r\n",
      "\u001b[?25hRequirement already satisfied: termcolor~=1.1.0 in /opt/conda/lib/python3.7/site-packages (from tensorflow) (1.1.0)\r\n",
      "Requirement already satisfied: opt-einsum~=3.3.0 in /opt/conda/lib/python3.7/site-packages (from tensorflow) (3.3.0)\r\n",
      "Requirement already satisfied: wrapt~=1.12.1 in /opt/conda/lib/python3.7/site-packages (from tensorflow) (1.12.1)\r\n",
      "Requirement already satisfied: protobuf>=3.9.2 in /opt/conda/lib/python3.7/site-packages (from tensorflow) (3.19.4)\r\n",
      "Collecting h5py~=3.1.0\r\n",
      "  Downloading h5py-3.1.0-cp37-cp37m-manylinux1_x86_64.whl (4.0 MB)\r\n",
      "\u001b[2K     \u001b[90m━━━━━━━━━━━━━━━━━━━━━━━━━━━━━━━━━━━━━━━━\u001b[0m \u001b[32m4.0/4.0 MB\u001b[0m \u001b[31m18.8 MB/s\u001b[0m eta \u001b[36m0:00:00\u001b[0m\r\n",
      "\u001b[?25hRequirement already satisfied: keras<2.7,>=2.6.0 in /opt/conda/lib/python3.7/site-packages (from tensorflow) (2.6.0)\r\n",
      "Requirement already satisfied: clang~=5.0 in /opt/conda/lib/python3.7/site-packages (from tensorflow) (5.0)\r\n",
      "Requirement already satisfied: cached-property in /opt/conda/lib/python3.7/site-packages (from h5py~=3.1.0->tensorflow) (1.5.2)\r\n",
      "Requirement already satisfied: tensorboard-data-server<0.7.0,>=0.6.0 in /opt/conda/lib/python3.7/site-packages (from tensorboard<2.7,>=2.6.0->tensorflow) (0.6.1)\r\n",
      "Requirement already satisfied: markdown>=2.6.8 in /opt/conda/lib/python3.7/site-packages (from tensorboard<2.7,>=2.6.0->tensorflow) (3.3.7)\r\n",
      "Requirement already satisfied: requests<3,>=2.21.0 in /opt/conda/lib/python3.7/site-packages (from tensorboard<2.7,>=2.6.0->tensorflow) (2.28.1)\r\n",
      "Requirement already satisfied: tensorboard-plugin-wit>=1.6.0 in /opt/conda/lib/python3.7/site-packages (from tensorboard<2.7,>=2.6.0->tensorflow) (1.8.1)\r\n",
      "Requirement already satisfied: setuptools>=41.0.0 in /opt/conda/lib/python3.7/site-packages (from tensorboard<2.7,>=2.6.0->tensorflow) (59.8.0)\r\n",
      "Requirement already satisfied: google-auth<2,>=1.6.3 in /opt/conda/lib/python3.7/site-packages (from tensorboard<2.7,>=2.6.0->tensorflow) (1.35.0)\r\n",
      "Requirement already satisfied: google-auth-oauthlib<0.5,>=0.4.1 in /opt/conda/lib/python3.7/site-packages (from tensorboard<2.7,>=2.6.0->tensorflow) (0.4.6)\r\n",
      "Requirement already satisfied: werkzeug>=0.11.15 in /opt/conda/lib/python3.7/site-packages (from tensorboard<2.7,>=2.6.0->tensorflow) (2.2.2)\r\n",
      "Requirement already satisfied: pyasn1-modules>=0.2.1 in /opt/conda/lib/python3.7/site-packages (from google-auth<2,>=1.6.3->tensorboard<2.7,>=2.6.0->tensorflow) (0.2.7)\r\n",
      "Requirement already satisfied: cachetools<5.0,>=2.0.0 in /opt/conda/lib/python3.7/site-packages (from google-auth<2,>=1.6.3->tensorboard<2.7,>=2.6.0->tensorflow) (4.2.4)\r\n",
      "Requirement already satisfied: rsa<5,>=3.1.4 in /opt/conda/lib/python3.7/site-packages (from google-auth<2,>=1.6.3->tensorboard<2.7,>=2.6.0->tensorflow) (4.8)\r\n",
      "Requirement already satisfied: requests-oauthlib>=0.7.0 in /opt/conda/lib/python3.7/site-packages (from google-auth-oauthlib<0.5,>=0.4.1->tensorboard<2.7,>=2.6.0->tensorflow) (1.3.1)\r\n",
      "Requirement already satisfied: importlib-metadata>=4.4 in /opt/conda/lib/python3.7/site-packages (from markdown>=2.6.8->tensorboard<2.7,>=2.6.0->tensorflow) (4.13.0)\r\n",
      "Requirement already satisfied: certifi>=2017.4.17 in /opt/conda/lib/python3.7/site-packages (from requests<3,>=2.21.0->tensorboard<2.7,>=2.6.0->tensorflow) (2022.9.24)\r\n",
      "Requirement already satisfied: charset-normalizer<3,>=2 in /opt/conda/lib/python3.7/site-packages (from requests<3,>=2.21.0->tensorboard<2.7,>=2.6.0->tensorflow) (2.1.0)\r\n",
      "Requirement already satisfied: idna<4,>=2.5 in /opt/conda/lib/python3.7/site-packages (from requests<3,>=2.21.0->tensorboard<2.7,>=2.6.0->tensorflow) (3.3)\r\n",
      "Requirement already satisfied: urllib3<1.27,>=1.21.1 in /opt/conda/lib/python3.7/site-packages (from requests<3,>=2.21.0->tensorboard<2.7,>=2.6.0->tensorflow) (1.26.12)\r\n",
      "Requirement already satisfied: MarkupSafe>=2.1.1 in /opt/conda/lib/python3.7/site-packages (from werkzeug>=0.11.15->tensorboard<2.7,>=2.6.0->tensorflow) (2.1.1)\r\n",
      "Requirement already satisfied: zipp>=0.5 in /opt/conda/lib/python3.7/site-packages (from importlib-metadata>=4.4->markdown>=2.6.8->tensorboard<2.7,>=2.6.0->tensorflow) (3.8.0)\r\n",
      "Requirement already satisfied: pyasn1<0.5.0,>=0.4.6 in /opt/conda/lib/python3.7/site-packages (from pyasn1-modules>=0.2.1->google-auth<2,>=1.6.3->tensorboard<2.7,>=2.6.0->tensorflow) (0.4.8)\r\n",
      "Requirement already satisfied: oauthlib>=3.0.0 in /opt/conda/lib/python3.7/site-packages (from requests-oauthlib>=0.7.0->google-auth-oauthlib<0.5,>=0.4.1->tensorboard<2.7,>=2.6.0->tensorflow) (3.2.0)\r\n",
      "Installing collected packages: typing-extensions, numpy, h5py, tensorboard\r\n",
      "  Attempting uninstall: typing-extensions\r\n",
      "    Found existing installation: typing_extensions 4.4.0\r\n",
      "    Uninstalling typing_extensions-4.4.0:\r\n",
      "      Successfully uninstalled typing_extensions-4.4.0\r\n",
      "  Attempting uninstall: numpy\r\n",
      "    Found existing installation: numpy 1.21.6\r\n",
      "    Uninstalling numpy-1.21.6:\r\n",
      "      Successfully uninstalled numpy-1.21.6\r\n",
      "  Attempting uninstall: h5py\r\n",
      "    Found existing installation: h5py 3.7.0\r\n",
      "    Uninstalling h5py-3.7.0:\r\n",
      "      Successfully uninstalled h5py-3.7.0\r\n",
      "  Attempting uninstall: tensorboard\r\n",
      "    Found existing installation: tensorboard 2.10.1\r\n",
      "    Uninstalling tensorboard-2.10.1:\r\n",
      "      Successfully uninstalled tensorboard-2.10.1\r\n",
      "\u001b[31mERROR: pip's dependency resolver does not currently take into account all the packages that are installed. This behaviour is the source of the following dependency conflicts.\r\n",
      "tensorflow-io 0.21.0 requires tensorflow-io-gcs-filesystem==0.21.0, which is not installed.\r\n",
      "beatrix-jupyterlab 3.1.7 requires google-cloud-bigquery-storage, which is not installed.\r\n",
      "xarray-einstats 0.2.2 requires numpy>=1.21, but you have numpy 1.19.5 which is incompatible.\r\n",
      "tfx-bsl 1.9.0 requires pyarrow<6,>=1, but you have pyarrow 8.0.0 which is incompatible.\r\n",
      "tfx-bsl 1.9.0 requires tensorflow!=2.0.*,!=2.1.*,!=2.2.*,!=2.3.*,!=2.4.*,!=2.5.*,!=2.6.*,!=2.7.*,!=2.8.*,<3,>=1.15.5, but you have tensorflow 2.6.4 which is incompatible.\r\n",
      "tensorflow-transform 1.9.0 requires pyarrow<6,>=1, but you have pyarrow 8.0.0 which is incompatible.\r\n",
      "tensorflow-transform 1.9.0 requires tensorflow!=2.0.*,!=2.1.*,!=2.2.*,!=2.3.*,!=2.4.*,!=2.5.*,!=2.6.*,!=2.7.*,!=2.8.*,<2.10,>=1.15.5, but you have tensorflow 2.6.4 which is incompatible.\r\n",
      "tensorflow-serving-api 2.9.0 requires tensorflow<3,>=2.9.0, but you have tensorflow 2.6.4 which is incompatible.\r\n",
      "pytorch-lightning 1.7.7 requires tensorboard>=2.9.1, but you have tensorboard 2.6.0 which is incompatible.\r\n",
      "pytorch-lightning 1.7.7 requires typing-extensions>=4.0.0, but you have typing-extensions 3.10.0.2 which is incompatible.\r\n",
      "pdpbox 0.2.1 requires matplotlib==3.1.1, but you have matplotlib 3.5.3 which is incompatible.\r\n",
      "pandas-profiling 3.1.0 requires markupsafe~=2.0.1, but you have markupsafe 2.1.1 which is incompatible.\r\n",
      "nnabla 1.31.0 requires numpy>=1.20.0, but you have numpy 1.19.5 which is incompatible.\r\n",
      "jaxlib 0.3.22 requires numpy>=1.20, but you have numpy 1.19.5 which is incompatible.\r\n",
      "jax 0.3.23 requires numpy>=1.20, but you have numpy 1.19.5 which is incompatible.\r\n",
      "flax 0.6.1 requires typing-extensions>=4.1.1, but you have typing-extensions 3.10.0.2 which is incompatible.\r\n",
      "flake8 4.0.1 requires importlib-metadata<4.3; python_version < \"3.8\", but you have importlib-metadata 4.13.0 which is incompatible.\r\n",
      "featuretools 1.11.1 requires numpy>=1.21.0, but you have numpy 1.19.5 which is incompatible.\r\n",
      "cmdstanpy 1.0.7 requires numpy>=1.21, but you have numpy 1.19.5 which is incompatible.\r\n",
      "apache-beam 2.40.0 requires dill<0.3.2,>=0.3.1.1, but you have dill 0.3.5.1 which is incompatible.\r\n",
      "apache-beam 2.40.0 requires pyarrow<8.0.0,>=0.15.1, but you have pyarrow 8.0.0 which is incompatible.\r\n",
      "allennlp 2.10.0 requires h5py>=3.6.0, but you have h5py 3.1.0 which is incompatible.\r\n",
      "allennlp 2.10.0 requires numpy>=1.21.4, but you have numpy 1.19.5 which is incompatible.\r\n",
      "allennlp 2.10.0 requires protobuf==3.20.0, but you have protobuf 3.19.4 which is incompatible.\r\n",
      "aioitertools 0.11.0 requires typing_extensions>=4.0; python_version < \"3.10\", but you have typing-extensions 3.10.0.2 which is incompatible.\r\n",
      "aiobotocore 2.4.0 requires botocore<1.27.60,>=1.27.59, but you have botocore 1.27.93 which is incompatible.\u001b[0m\u001b[31m\r\n",
      "\u001b[0mSuccessfully installed h5py-3.1.0 numpy-1.19.5 tensorboard-2.6.0 typing-extensions-3.10.0.2\r\n",
      "\u001b[33mWARNING: Running pip as the 'root' user can result in broken permissions and conflicting behaviour with the system package manager. It is recommended to use a virtual environment instead: https://pip.pypa.io/warnings/venv\u001b[0m\u001b[33m\r\n",
      "\u001b[0m"
     ]
    }
   ],
   "source": [
    "!python -m pip install paddlepaddle==2.4.1 -i https://mirror.baidu.com/pypi/simple\n",
    "!pip install git+https://github.com/JaidedAI/EasyOCR.git\n",
    "!pip install \"paddleocr>=2.0.1\"\n",
    "!pip install torch torchvision torchaudio\n",
    "!pip install --upgrade pip\n",
    "!pip install tensorflow"
   ]
  },
  {
   "cell_type": "code",
   "execution_count": 3,
   "id": "7a579376",
   "metadata": {
    "execution": {
     "iopub.execute_input": "2022-12-16T15:57:14.324867Z",
     "iopub.status.busy": "2022-12-16T15:57:14.324215Z",
     "iopub.status.idle": "2022-12-16T15:57:24.177821Z",
     "shell.execute_reply": "2022-12-16T15:57:24.176479Z"
    },
    "papermill": {
     "duration": 9.891645,
     "end_time": "2022-12-16T15:57:24.180588",
     "exception": false,
     "start_time": "2022-12-16T15:57:14.288943",
     "status": "completed"
    },
    "tags": []
   },
   "outputs": [],
   "source": [
    "import paddle\n",
    "from paddleocr import PaddleOCR,draw_ocr\n",
    "import easyocr\n",
    "from PIL import Image\n",
    "import torch\n",
    "import tensorflow"
   ]
  },
  {
   "cell_type": "code",
   "execution_count": 4,
   "id": "a04909dd",
   "metadata": {
    "execution": {
     "iopub.execute_input": "2022-12-16T15:57:24.258358Z",
     "iopub.status.busy": "2022-12-16T15:57:24.256898Z",
     "iopub.status.idle": "2022-12-16T15:58:27.715224Z",
     "shell.execute_reply": "2022-12-16T15:58:27.714070Z"
    },
    "papermill": {
     "duration": 63.496329,
     "end_time": "2022-12-16T15:58:27.718260",
     "exception": false,
     "start_time": "2022-12-16T15:57:24.221931",
     "status": "completed"
    },
    "tags": []
   },
   "outputs": [
    {
     "name": "stdout",
     "output_type": "stream",
     "text": [
      "download https://paddleocr.bj.bcebos.com/PP-OCRv3/multilingual/Multilingual_PP-OCRv3_det_infer.tar to /root/.paddleocr/whl/det/ml/Multilingual_PP-OCRv3_det_infer/Multilingual_PP-OCRv3_det_infer.tar\n"
     ]
    },
    {
     "name": "stderr",
     "output_type": "stream",
     "text": [
      "100%|██████████| 3.85M/3.85M [00:02<00:00, 1.29MiB/s]\n"
     ]
    },
    {
     "name": "stdout",
     "output_type": "stream",
     "text": [
      "download https://paddleocr.bj.bcebos.com/PP-OCRv3/multilingual/cyrillic_PP-OCRv3_rec_infer.tar to /root/.paddleocr/whl/rec/cyrillic/cyrillic_PP-OCRv3_rec_infer/cyrillic_PP-OCRv3_rec_infer.tar\n"
     ]
    },
    {
     "name": "stderr",
     "output_type": "stream",
     "text": [
      "100%|██████████| 9.98M/9.98M [00:05<00:00, 1.81MiB/s]\n"
     ]
    },
    {
     "name": "stdout",
     "output_type": "stream",
     "text": [
      "download https://paddleocr.bj.bcebos.com/dygraph_v2.0/ch/ch_ppocr_mobile_v2.0_cls_infer.tar to /root/.paddleocr/whl/cls/ch_ppocr_mobile_v2.0_cls_infer/ch_ppocr_mobile_v2.0_cls_infer.tar\n"
     ]
    },
    {
     "name": "stderr",
     "output_type": "stream",
     "text": [
      "100%|██████████| 2.19M/2.19M [00:02<00:00, 766kiB/s] "
     ]
    },
    {
     "name": "stdout",
     "output_type": "stream",
     "text": [
      "[2022/12/16 15:57:38] ppocr DEBUG: Namespace(alpha=1.0, benchmark=False, beta=1.0, cls_batch_num=6, cls_image_shape='3, 48, 192', cls_model_dir='/root/.paddleocr/whl/cls/ch_ppocr_mobile_v2.0_cls_infer', cls_thresh=0.9, cpu_threads=10, crop_res_save_dir='./output', det=True, det_algorithm='DB', det_box_type='quad', det_db_box_thresh=0.6, det_db_score_mode='fast', det_db_thresh=0.3, det_db_unclip_ratio=1.5, det_east_cover_thresh=0.1, det_east_nms_thresh=0.2, det_east_score_thresh=0.8, det_limit_side_len=960, det_limit_type='max', det_model_dir='/root/.paddleocr/whl/det/ml/Multilingual_PP-OCRv3_det_infer', det_pse_box_thresh=0.85, det_pse_min_area=16, det_pse_scale=1, det_pse_thresh=0, det_sast_nms_thresh=0.2, det_sast_score_thresh=0.5, draw_img_save_dir='./inference_results', drop_score=0.5, e2e_algorithm='PGNet', e2e_char_dict_path='./ppocr/utils/ic15_dict.txt', e2e_limit_side_len=768, e2e_limit_type='max', e2e_model_dir=None, e2e_pgnet_mode='fast', e2e_pgnet_score_thresh=0.5, e2e_pgnet_valid_set='totaltext', enable_mkldnn=False, fourier_degree=5, gpu_mem=500, help='==SUPPRESS==', image_dir=None, image_orientation=False, ir_optim=True, kie_algorithm='LayoutXLM', label_list=['0', '180'], lang='ru', layout=True, layout_dict_path=None, layout_model_dir=None, layout_nms_threshold=0.5, layout_score_threshold=0.5, max_batch_size=10, max_text_length=25, merge_no_span_structure=True, min_subgraph_size=15, mode='structure', ocr=True, ocr_order_method=None, ocr_version='PP-OCRv3', output='./output', page_num=0, precision='fp32', process_id=0, re_model_dir=None, rec=True, rec_algorithm='SVTR_LCNet', rec_batch_num=6, rec_char_dict_path='/opt/conda/lib/python3.7/site-packages/paddleocr/ppocr/utils/dict/cyrillic_dict.txt', rec_image_inverse=True, rec_image_shape='3, 48, 320', rec_model_dir='/root/.paddleocr/whl/rec/cyrillic/cyrillic_PP-OCRv3_rec_infer', recovery=False, save_crop_res=False, save_log_path='./log_output/', scales=[8, 16, 32], ser_dict_path='../train_data/XFUND/class_list_xfun.txt', ser_model_dir=None, show_log=True, sr_batch_num=1, sr_image_shape='3, 32, 128', sr_model_dir=None, structure_version='PP-StructureV2', table=True, table_algorithm='TableAttn', table_char_dict_path=None, table_max_len=488, table_model_dir=None, total_process_num=1, type='ocr', use_angle_cls=True, use_dilation=False, use_gpu=False, use_mp=False, use_npu=False, use_onnx=False, use_pdf2docx_api=False, use_pdserving=False, use_space_char=True, use_tensorrt=False, use_visual_backbone=True, use_xpu=False, vis_font_path='./doc/fonts/simfang.ttf', warmup=False)\n"
     ]
    },
    {
     "name": "stderr",
     "output_type": "stream",
     "text": [
      "\n"
     ]
    },
    {
     "name": "stdout",
     "output_type": "stream",
     "text": [
      "[2022/12/16 15:57:40] ppocr DEBUG: dt_boxes num : 41, elapse : 0.4503462314605713\n",
      "[2022/12/16 15:57:43] ppocr DEBUG: rec_res num  : 41, elapse : 3.5922369956970215\n",
      "[2022/12/16 15:57:44] ppocr DEBUG: dt_boxes num : 49, elapse : 0.5961759090423584\n",
      "[2022/12/16 15:57:48] ppocr DEBUG: rec_res num  : 49, elapse : 4.141690969467163\n",
      "[2022/12/16 15:57:49] ppocr DEBUG: dt_boxes num : 49, elapse : 0.5145754814147949\n",
      "[2022/12/16 15:57:53] ppocr DEBUG: rec_res num  : 49, elapse : 4.521153688430786\n",
      "[2022/12/16 15:57:54] ppocr DEBUG: dt_boxes num : 45, elapse : 0.7829086780548096\n",
      "[2022/12/16 15:57:58] ppocr DEBUG: rec_res num  : 45, elapse : 3.670686721801758\n",
      "[2022/12/16 15:57:59] ppocr DEBUG: dt_boxes num : 35, elapse : 0.32286930084228516\n",
      "[2022/12/16 15:58:03] ppocr DEBUG: rec_res num  : 35, elapse : 4.058459043502808\n",
      "[2022/12/16 15:58:04] ppocr DEBUG: dt_boxes num : 53, elapse : 0.8314578533172607\n",
      "[2022/12/16 15:58:09] ppocr DEBUG: rec_res num  : 53, elapse : 5.80915641784668\n",
      "[2022/12/16 15:58:10] ppocr DEBUG: dt_boxes num : 24, elapse : 0.22223663330078125\n",
      "[2022/12/16 15:58:12] ppocr DEBUG: rec_res num  : 24, elapse : 2.480884075164795\n",
      "[2022/12/16 15:58:13] ppocr DEBUG: dt_boxes num : 44, elapse : 0.7621183395385742\n",
      "[2022/12/16 15:58:17] ppocr DEBUG: rec_res num  : 44, elapse : 4.0015130043029785\n",
      "[2022/12/16 15:58:18] ppocr DEBUG: dt_boxes num : 43, elapse : 0.6012630462646484\n",
      "[2022/12/16 15:58:22] ppocr DEBUG: rec_res num  : 43, elapse : 4.010905027389526\n",
      "[2022/12/16 15:58:23] ppocr DEBUG: dt_boxes num : 53, elapse : 0.6132149696350098\n",
      "[2022/12/16 15:58:27] ppocr DEBUG: rec_res num  : 53, elapse : 4.400296688079834\n"
     ]
    }
   ],
   "source": [
    "ocr = PaddleOCR(use_angle_cls=True, lang='ru') # need to run only once to download and load model into memory\n",
    "for dirname, _, filenames in os.walk('/kaggle/input/ocrocr/ DataForOCR'):\n",
    "    for index, filename in enumerate(sorted(filenames)):\n",
    "        img_path = os.path.join(dirname, filename)\n",
    "        result = ocr.ocr(img_path, cls=False)\n",
    "        for idx in range(len(result)):\n",
    "            res = result[idx]\n",
    "        result = result[0]\n",
    "        image = Image.open(img_path).convert('RGB')\n",
    "        boxes = [line[0] for line in result]\n",
    "        txts = [line[1][0] for line in result]\n",
    "        scores = [line[1][1] for line in result]\n",
    "        im_show = draw_ocr(image, boxes, txts, scores, font_path='/kaggle/input/fonts123/Montserrat-Medium.ttf')\n",
    "        im_show = Image.fromarray(im_show)\n",
    "        im_show.save('result' + str(index) + '.jpg')"
   ]
  },
  {
   "cell_type": "code",
   "execution_count": 5,
   "id": "df519962",
   "metadata": {
    "execution": {
     "iopub.execute_input": "2022-12-16T15:58:27.801764Z",
     "iopub.status.busy": "2022-12-16T15:58:27.801037Z",
     "iopub.status.idle": "2022-12-16T16:01:50.083940Z",
     "shell.execute_reply": "2022-12-16T16:01:50.082923Z"
    },
    "papermill": {
     "duration": 202.328092,
     "end_time": "2022-12-16T16:01:50.086602",
     "exception": false,
     "start_time": "2022-12-16T15:58:27.758510",
     "status": "completed"
    },
    "tags": []
   },
   "outputs": [
    {
     "name": "stdout",
     "output_type": "stream",
     "text": [
      "Progress: |██████████████████████████████████████████████████| 100.1% Complete/kaggle/input/ocrocr/ DataForOCR/0.jpeg\n",
      "/kaggle/input/ocrocr/ DataForOCR/1.jpeg\n",
      "/kaggle/input/ocrocr/ DataForOCR/2.jpeg\n",
      "/kaggle/input/ocrocr/ DataForOCR/3.jpeg\n",
      "/kaggle/input/ocrocr/ DataForOCR/4.png\n",
      "/kaggle/input/ocrocr/ DataForOCR/5.jpeg\n",
      "/kaggle/input/ocrocr/ DataForOCR/6.jpeg\n",
      "/kaggle/input/ocrocr/ DataForOCR/7.jpeg\n",
      "/kaggle/input/ocrocr/ DataForOCR/8.jpeg\n",
      "/kaggle/input/ocrocr/ DataForOCR/9.jpeg\n"
     ]
    }
   ],
   "source": [
    "results_EasyOCR = []\n",
    "reader = easyocr.Reader(['ru'])\n",
    "for dirname, _, filenames in os.walk(ImagesTestDIR):\n",
    "    for filename in sorted(filenames):\n",
    "        print(os.path.join(dirname, filename))\n",
    "        result = reader.readtext(os.path.join(dirname, filename))\n",
    "        results_EasyOCR.append(result)"
   ]
  },
  {
   "cell_type": "code",
   "execution_count": 6,
   "id": "18794c36",
   "metadata": {
    "execution": {
     "iopub.execute_input": "2022-12-16T16:01:50.177728Z",
     "iopub.status.busy": "2022-12-16T16:01:50.177324Z",
     "iopub.status.idle": "2022-12-16T16:01:50.183532Z",
     "shell.execute_reply": "2022-12-16T16:01:50.182267Z"
    },
    "papermill": {
     "duration": 0.055178,
     "end_time": "2022-12-16T16:01:50.187325",
     "exception": false,
     "start_time": "2022-12-16T16:01:50.132147",
     "status": "completed"
    },
    "tags": []
   },
   "outputs": [
    {
     "name": "stdout",
     "output_type": "stream",
     "text": [
      "['С с и и с к ; я', '4 Е ₽', 'ПАСПОРТНО-визовым ОтДЕЛЕНИЕМ', 'овд', 'ПРЕСНЕНСКОГО', 'РАЙОНА', 'УВД ЦАО ГОРОДА МОСКВЫ', '09.11.2016', 'аарачагыы', '772-112', '&', '~/', 'ТРАМП', 'ДОНАЛЬД', 'Джон', 'Муж', '14 . 06 . 1946', 'ГОР', 'КУИНС', 'ШТАТ', 'НЬЮ-ЙОРК', '8', 'США']\n",
      "\n",
      "['€ Ии € к', '4 Я', 'Ф Е4 ₽ ₽ А ц', 'И %', 'мО', 'УФМС РОССИИ', 'ПО МУРМАНСКОЙ ОБЛАСТИ', 'В ГОРОДЕ МОНЧЕГОРСК', '2008', '123', '005', '7/', 'ё', 'ХАЛАБУДИНА', 'ЮЛИЯ', 'АЛЕКСЕЕВНА', '8', '10', '1988', 'МОНЧЕГОРСК', 'ё']\n",
      "\n",
      "['С и й € КА', 'Ф 1 А Е ₽ А ц и Я', 'ОТДЕЛОМ ВНУТРЕННИХ ДЕЛ', 'яиа', 'ГОР', 'КРАСНОЗНАМЕНСК', '@', '16 . 10.2016', '100-128', '8', '3', 'ШАПОШНИКОВА', 'ВИКТОРИЯ', 'НИКОЛАЕВНА', 'ЖЕН', '14.09. 1985', 'ГОР', 'КРАСНОЗНАМЕНСК', '$', '5', '<<<Пробная', 'страничка', 'Паспорт', 'РФ', '2017>>>', '<<<Стоимость', 'программы 10 $>>>', '<<<Еша11:', ')аске-аЬпе @ 9ша11', 'сош>>> >', '@зузф:']\n",
      "\n",
      "['₽ 0 С С И й С К А Я', 'Ф Е 4 Е ₽ А Ц и Я', 'Ласпорт выдан', 'ОТДЕЛОМ', 'УФМС', 'РОССИИ', 'ПО', 'САМАРСКОЙ', 'ОБЛАСТИ', 'В', 'ЦЕНТРАЛЬНОМ', 'с?', 'РАЙОНЕ', 'ГОРОДА', 'тольятти', 'Дата выдачи', '08', '05.2006 Код подраздеАения', '112-009', '8', '741141', 'Дичннй Код', '3', 'Ию', 'поуинев', 'Фаммлия', 'дАймОНД', \"'мя\", 'ДМИТРИЙ', 'с', 'Отчсстно', 'АЛЕКСЕЕВИЧ', 'Лол', 'МУЖ ', 'ротаения', '06', '05 . 1986', '8', 'Место', 'рождения', 'ГОР', 'САМАРА', 'ё', 'служба', '(', '€', 'ё', '2', '069']\n",
      "\n",
      "['Т1 А\"47 ОТДЕЛА УФМС РОССИИ', 'ПО САНКТ-ПЕТЕРБУРГУ И ЛЕНИНГРАДСКОЙ ОБЛ;', 'ГтШ', '#могкОвском', '~НЕ ГОР САНКТ ПЕТЕРБУРГА', 'рем', '2012', '78П-047', 'Саэ&', '2 +', '2', 'Талгчс', 'м~ниаша', 'хэбры ау 53', '@шзш', 'Ч,п5', 'Стлазъыгер', 'сОкаЛОТ', 'шкшилва', 'АНДРЕИ', 'АНДРЕЕНИЧ', 'ПеРЕ .рл', 'МУЖК =', 'пэтп', '1 957', 'ГОР СОЛИкАМСК', 'Слъчз', 'пеРыскоГижкРАЛ', '8', '6а', 'УНЛ 5 594 4', 'П У;;;в', '51 <;яуоав€.', '4015 639 93 9#1 5 9 20 9289 М < << < <<<<<<2121[2378 [! ,7 <16']\n",
      "\n",
      "['и', 'К4', '1 А 1 ₽^ ци', 'ОТДЕЛЕНИЕ', 'УФМС', 'РОССИИ', 'Пкар,', 'шмин', 'ПО', 'ПСКОВСКОЙ', 'ОБЛАСТИ', 'Ол', '0', 'в', 'ПЫТАЛОВСКОМ', 'РАИОНЕ', '30 . 06 . 2015', '600-022', '5', '(е', '3', 'МАКАРОВ', 'с', 'РОМАН', 'ЮРЬЕВИЧ', '=', 'МУЖ .', ' |', '16.06.1995', 'Мат', 'ДЕР', 'БОРОУСЫ', 'Б4дэли н', 'ПЫТАЛОВСКОГО', 'РНА', ':', 'ПСКОВСКОЙ', 'ОБЛ', '₽&@  $МАКА₽01 < <₽0МА&<789ЕУ]З<<<<<<<<<<<<<<<<<', '5811808421₽Ч$ 9506169М<<<<<<<4150630600022<10', '\"62']\n",
      "\n",
      "['РОвД', 'МитяНа\"', 'ГОР . УОСЕЕН', '308', '2000', '772-104', 'ВАСЛЕ ВСКИЯ', 'ГРИГОРИ#', 'ПЕтРОВиц', 'Руд', '74.01+1971', 'С;\"ДРИнСкОЕ', 'КРАСНОЯРСТОТО', '#Ряя']\n",
      "\n",
      "['Р0 С С И Й € К А Я', 'Ф ЕД Е Р А', 'Щи Я', 'ОТДЕЛОМ', 'ВНУТРЕННИХ', 'ДЕЛ', 'Паспорт выдан', 'ОКТЯБРЬСКОГО', 'ОКРУГА', 'н', 'ГОРОДА', 'АРХАНГЕЛЬСКА', '17', '12.2004', '292-000', '2', 'Цата выдачи', '(л', '8', 'Аичныйскод', '3', 'тная', 'нодписъ', 'ИМЯРЕК', 'Фашши', 'ЕВГЕНИЙ', 'н', 'АЛЕКСАНДРОВИЧ', 'Отчество', 'МУЖ', 'Дата', '12.09', '1682', '2', 'Лол', 'рожАения', 'Место', 'ГОР', 'АРХАНГЕЛЬСК', 'рождения', '3', 'сЛчэба', 'овая']\n",
      "\n",
      "['С С и Й СкА', 'Ф Е Д БИТ4 ц', 'И Я', 'МО УФМС РОССИИ', 'по', 'ПЕРМСКОМУ', 'КРАЮ', '9', 'ГОРОДЕ', 'ГЛАЗОВЕ', '8', \"'\", 'Авта пмяч ] 8 . 01.2011 ка', '180-008', '=', ':', '3в', ':', '1', '8', '2', '8', '&', ':', '!', '1', '2', '₽', '1', '8', '8', 'ё', '#2', 'я', '5', 'ЕГ @', '8', 'КУЗЕВАНОВ', 'АЛЕКСАНДР', 'с', 'ИГОРЕВИЧ', 'МуЖ', '18 . 09 .1980', '=', 'ГОР', 'глАзОВ', '8']\n",
      "\n",
      "['Я', 'Ф ', '₽ 4 € ₽ ^ Ц и Я', '₽ 0 с € и й € К А', 'ЛТДЕлоМ', 'УФР1С', 'Расони', 'Ласпорт зыда', 'Не', 'СВЕРДЛОВСКОЙ', 'ОБАСтЙ', 'Р~НЕ', 'ГОР =', 'ЕКАТЕРИНЬУРМ', '8', '5', 'КИРовскОМ', '660', '005', '15.02.2011', '+', '#зделения', 'Дата вадачн', 'Анчый код', ':', \"'(мо\", 'Аичная ио47нсь', '# `', 'РФ', 'КМАКАЕВА', 'Ф;жлпния', '&', 'РФ', '#АНН', 'НРФ', 'АНАТОЛЬЕВНА', '+', 'Отчество', 'Пол', 'ЖЕН ', 'ДожАения', '09.05.1927', 'Место', 'Ф', ' `', 'рождения', 'ГОР', 'СВЕРДловСК', 'ё', 'Р48']\n",
      "\n"
     ]
    }
   ],
   "source": [
    "for i in range(10):\n",
    "    print([x[1] for x in results_EasyOCR[i]])\n",
    "    print()"
   ]
  },
  {
   "cell_type": "code",
   "execution_count": null,
   "id": "e233a206",
   "metadata": {
    "papermill": {
     "duration": 0.043456,
     "end_time": "2022-12-16T16:01:50.274818",
     "exception": false,
     "start_time": "2022-12-16T16:01:50.231362",
     "status": "completed"
    },
    "tags": []
   },
   "outputs": [],
   "source": []
  }
 ],
 "metadata": {
  "kernelspec": {
   "display_name": "Python 3",
   "language": "python",
   "name": "python3"
  },
  "language_info": {
   "codemirror_mode": {
    "name": "ipython",
    "version": 3
   },
   "file_extension": ".py",
   "mimetype": "text/x-python",
   "name": "python",
   "nbconvert_exporter": "python",
   "pygments_lexer": "ipython3",
   "version": "3.7.12"
  },
  "papermill": {
   "default_parameters": {},
   "duration": 450.325604,
   "end_time": "2022-12-16T16:01:54.107763",
   "environment_variables": {},
   "exception": null,
   "input_path": "__notebook__.ipynb",
   "output_path": "__notebook__.ipynb",
   "parameters": {},
   "start_time": "2022-12-16T15:54:23.782159",
   "version": "2.3.4"
  }
 },
 "nbformat": 4,
 "nbformat_minor": 5
}
